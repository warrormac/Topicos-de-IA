{
  "cells": [
    {
      "cell_type": "code",
      "execution_count": 1,
      "metadata": {
        "colab": {
          "base_uri": "https://localhost:8080/"
        },
        "id": "rNGO8UtNkDZ6",
        "outputId": "4db19575-3a6f-42ac-b707-e5626947c46e"
      },
      "outputs": [
        {
          "name": "stdout",
          "output_type": "stream",
          "text": [
            "Looking in indexes: https://pypi.org/simple, https://us-python.pkg.dev/colab-wheels/public/simple/\n",
            "Requirement already satisfied: opencv-python-headless in /usr/local/lib/python3.9/dist-packages (4.7.0.72)\n",
            "Requirement already satisfied: numpy>=1.17.0 in /usr/local/lib/python3.9/dist-packages (from opencv-python-headless) (1.22.4)\n"
          ]
        }
      ],
      "source": [
        "!pip install opencv-python-headless"
      ]
    },
    {
      "cell_type": "code",
      "execution_count": null,
      "metadata": {
        "colab": {
          "base_uri": "https://localhost:8080/",
          "height": 1000
        },
        "id": "bwC9P_QjkIZn",
        "outputId": "ccf62cc2-10ef-4a6a-f8a1-7c2d744c8278"
      },
      "outputs": [],
      "source": [
        "import cv2\n",
        "from google.colab.patches import cv2_imshow\n",
        "import matplotlib.pyplot as plt\n",
        "\n",
        "# Load image from the web\n",
        "img_url = \"/content/cat.jpg\"\n",
        "img = cv2.imread(img_url)\n",
        "\n",
        "# Apply Laplacian filter\n",
        "laplacian = cv2.Laplacian(img, cv2.CV_8UC3)\n",
        "\n",
        "# Show the result\n",
        "fig, ax = plt.subplots(ncols=2, figsize=(10, 5))\n",
        "ax[0].imshow(cv2.cvtColor(img, cv2.COLOR_BGR2RGB))\n",
        "ax[0].set(title=\"Original Image\")\n",
        "ax[1].imshow(cv2.cvtColor(laplacian, cv2.COLOR_BGR2RGB))\n",
        "ax[1].set(title=\"Laplacian Filtered Image\")\n",
        "plt.show()"
      ]
    }
  ],
  "metadata": {
    "colab": {
      "provenance": []
    },
    "kernelspec": {
      "display_name": "Python 3",
      "name": "python3"
    },
    "language_info": {
      "name": "python"
    }
  },
  "nbformat": 4,
  "nbformat_minor": 0
}
